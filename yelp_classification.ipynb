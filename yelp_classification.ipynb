{
 "cells": [
  {
   "cell_type": "markdown",
   "metadata": {},
   "source": [
    "<h3>Make Training and Dev Data</h3>"
   ]
  },
  {
   "cell_type": "code",
   "execution_count": 1,
   "metadata": {
    "collapsed": false
   },
   "outputs": [],
   "source": [
    "import random\n",
    "\n",
    "def csv_to_array(filename):\n",
    "    file = open(filename, 'r')\n",
    "    file_text = file.read()\n",
    "    # Get rid of the first three, which are examples\n",
    "    split_text = file_text.split('|')[3:]\n",
    "    i = 0\n",
    "    tuple_text = []\n",
    "    while i < len(split_text) - 1:\n",
    "        tuple_text.append((split_text[i+1], split_text[i], int(i/2)))\n",
    "        i += 2\n",
    "    \n",
    "    return tuple_text\n",
    "    \n",
    "def make_training_and_dev_data(all_data):\n",
    "    random.shuffle(all_data)\n",
    "    training_ratio = .9\n",
    "    return all_data[:int(len(all_data) * training_ratio)], all_data[int(len(all_data) * training_ratio):]\n",
    "#     return all_data[:(len(all_data) * training_ratio)], all_data[:(len(all_data) * training_ratio)] \n",
    "\n",
    "\n",
    "official_data = csv_to_array('yelp_data_official_training.csv')\n",
    "\n",
    "for garbage in official_data:\n",
    "    if garbage[1].isdigit() is False:\n",
    "        print(garbage[1])\n",
    "        break\n",
    "\n",
    "training_data, dev_data = make_training_and_dev_data(official_data)"
   ]
  },
  {
   "cell_type": "code",
   "execution_count": 2,
   "metadata": {
    "collapsed": true
   },
   "outputs": [],
   "source": [
    "def reviews(data):\n",
    "    reviews = []\n",
    "    for i in range(len(training_data)):\n",
    "        reviews.append(training_data[i][0])\n",
    "    return reviews\n",
    "\n",
    "def labels(data):\n",
    "    reviews = []\n",
    "    for i in range(len(training_data)):\n",
    "        reviews.append(int(training_data[i][1]))\n",
    "    return reviews\n",
    "\n",
    "reviews_training = reviews(training_data)\n",
    "label_training = labels(training_data)\n",
    "reviews_dev = reviews(dev_data)\n",
    "label_dev = labels(dev_data)"
   ]
  },
  {
   "cell_type": "code",
   "execution_count": 3,
   "metadata": {
    "collapsed": false
   },
   "outputs": [
    {
     "name": "stderr",
     "output_type": "stream",
     "text": [
      "/Users/RK/anaconda/lib/python3.5/site-packages/sklearn/utils/fixes.py:64: DeprecationWarning: inspect.getargspec() is deprecated, use inspect.signature() instead\n",
      "  if 'order' in inspect.getargspec(np.copy)[0]:\n"
     ]
    },
    {
     "data": {
      "text/plain": [
       "(43200, 88888)"
      ]
     },
     "execution_count": 3,
     "metadata": {},
     "output_type": "execute_result"
    }
   ],
   "source": [
    "from sklearn.feature_extraction.text import CountVectorizer\n",
    "count_vect = CountVectorizer()\n",
    "X_train_counts = count_vect.fit_transform(reviews_training)\n",
    "X_train_counts.shape\n",
    "\n",
    "from sklearn.feature_extraction.text import TfidfTransformer\n",
    "tf_transformer = TfidfTransformer(use_idf=False).fit(X_train_counts)\n",
    "X_train_tf = tf_transformer.transform(X_train_counts)\n",
    "X_train_tf.shape"
   ]
  },
  {
   "cell_type": "markdown",
   "metadata": {},
   "source": [
    "<h3>Naive Bayes Pipeline</h3>"
   ]
  },
  {
   "cell_type": "code",
   "execution_count": 4,
   "metadata": {
    "collapsed": false
   },
   "outputs": [
    {
     "data": {
      "text/plain": [
       "0.74337962962962967"
      ]
     },
     "execution_count": 4,
     "metadata": {},
     "output_type": "execute_result"
    }
   ],
   "source": [
    "import numpy as np\n",
    "from sklearn.pipeline import Pipeline\n",
    "\n",
    "from sklearn.naive_bayes import MultinomialNB\n",
    "\n",
    "text_clf_mnb = Pipeline([('vect', CountVectorizer()),\n",
    "                     ('tfidf', TfidfTransformer()),\n",
    "                     ('clf', MultinomialNB()),])\n",
    "\n",
    "text_clf_mnb = text_clf_mnb.fit(reviews_training, label_training)\n",
    "predicted_mnb = text_clf_mnb.predict(reviews_dev)\n",
    "np.mean(predicted_mnb == label_dev)"
   ]
  },
  {
   "cell_type": "markdown",
   "metadata": {},
   "source": [
    "<h3>SVM Pipeline</h3>"
   ]
  },
  {
   "cell_type": "code",
   "execution_count": 5,
   "metadata": {
    "collapsed": false
   },
   "outputs": [
    {
     "data": {
      "text/plain": [
       "0.93895833333333334"
      ]
     },
     "execution_count": 5,
     "metadata": {},
     "output_type": "execute_result"
    }
   ],
   "source": [
    "from sklearn.linear_model import SGDClassifier\n",
    "\n",
    "text_clf_svm = Pipeline([('vect', CountVectorizer(max_df=0.95, min_df=2,stop_words='english')),\n",
    "                     #('tfidf', TfidfTransformer()), \n",
    "                     ('clf', SGDClassifier(loss='hinge', penalty='l2',alpha=1e-3, n_iter=5, random_state=42)),])\n",
    "text_clf_svm = text_clf_svm.fit(reviews_training, label_training)\n",
    "predicted_svm = text_clf_svm.predict(reviews_dev)\n",
    "np.mean(predicted_svm == label_dev)"
   ]
  },
  {
   "cell_type": "markdown",
   "metadata": {},
   "source": [
    "<h3>Load Test Data</h3>"
   ]
  },
  {
   "cell_type": "code",
   "execution_count": 6,
   "metadata": {
    "collapsed": false
   },
   "outputs": [],
   "source": [
    "import re\n",
    "\n",
    "def test_file_to_array(filename):\n",
    "    file = open(filename, 'r')\n",
    "    file_text = file.read()\n",
    "    # Skip the first one because it's the header starter shit\n",
    "    split_text = re.split('\\d+\\|', file_text)[1:]\n",
    "    tupled_text = []\n",
    "    for i in range(len(split_text)):\n",
    "        tupled_text.append((split_text[i], i))        \n",
    "    return tupled_text\n",
    "\n",
    "test_array = test_file_to_array('yelp_data_official_test_nocategories.csv')"
   ]
  },
  {
   "cell_type": "markdown",
   "metadata": {},
   "source": [
    "<h3>Make Test Predictions For All Models</h3>"
   ]
  },
  {
   "cell_type": "code",
   "execution_count": 7,
   "metadata": {
    "collapsed": true
   },
   "outputs": [],
   "source": [
    "# predicted_svm = text_clf_svm.predict(test_reviews)\n",
    "# predicted_mnb = text_clf_mnb.predict(test_reviews)\n",
    "\n",
    "def test_prediction(model):\n",
    "    output = []\n",
    "    test_reviews = []\n",
    "    test_id = []\n",
    "    \n",
    "    for i in test_array:\n",
    "        test_reviews.append(i[0])\n",
    "        test_id.append(i[1])\n",
    "        \n",
    "    if str(model) == 'svm':\n",
    "        predicted = text_clf_svm.predict(test_reviews)\n",
    "        \n",
    "    elif model == 'mnb':\n",
    "        predicted = text_clf_mnb.predict(test_reviews)\n",
    "        \n",
    "    for i in range(0,len(predicted)):\n",
    "        output.append((int(i),predicted[i]))\n",
    "    \n",
    "    return output\n",
    "\n",
    "output_mnb = test_prediction('mnb')\n",
    "output_svm = test_prediction('svm')"
   ]
  },
  {
   "cell_type": "markdown",
   "metadata": {},
   "source": [
    "<h3>Write Output to CSV: Specify Model</h3>"
   ]
  },
  {
   "cell_type": "code",
   "execution_count": 8,
   "metadata": {
    "collapsed": false
   },
   "outputs": [],
   "source": [
    "def write_output_to_csv(output, filename):\n",
    "    file = open(filename, 'w')\n",
    "    file.write('Id' + ',' + 'Category' + '\\n' )\n",
    "    if str(output) == str(output_mnb):\n",
    "        for item in output_mnb:\n",
    "            file.write(str(item[0]) + ',' + str(item[1]) + '\\n')\n",
    "    elif str(output) == str(output_svm):\n",
    "        for item in output_svm:\n",
    "            file.write(str(item[0]) + ',' + str(item[1]) + '\\n')\n",
    "\n",
    "write_output_to_csv(output_svm, 'kuvinka_test.csv')"
   ]
  },
  {
   "cell_type": "markdown",
   "metadata": {},
   "source": [
    "<h3>Classification Report and Confustion Matrix</h3>"
   ]
  },
  {
   "cell_type": "code",
   "execution_count": 9,
   "metadata": {
    "collapsed": false,
    "scrolled": true
   },
   "outputs": [
    {
     "name": "stdout",
     "output_type": "stream",
     "text": [
      "--------SVM-------\n",
      "\n",
      "             precision    recall  f1-score   support\n",
      "\n",
      "          1       0.96      0.96      0.96     13558\n",
      "          2       0.92      0.93      0.92      7188\n",
      "          3       0.94      0.97      0.95     10218\n",
      "          4       0.92      0.90      0.91      7043\n",
      "          5       0.96      0.92      0.94      3340\n",
      "          6       0.94      0.86      0.90      1853\n",
      "\n",
      "avg / total       0.94      0.94      0.94     43200\n",
      "\n",
      "\n",
      "--------MNB-------\n",
      "\n",
      "             precision    recall  f1-score   support\n",
      "\n",
      "          1       0.65      0.98      0.78     13558\n",
      "          2       0.91      0.74      0.82      7188\n",
      "          3       0.75      0.94      0.84     10218\n",
      "          4       0.98      0.49      0.65      7043\n",
      "          5       0.93      0.11      0.20      3340\n",
      "          6       1.00      0.00      0.01      1853\n",
      "\n",
      "avg / total       0.81      0.74      0.70     43200\n",
      "\n",
      "\n"
     ]
    }
   ],
   "source": [
    "from sklearn import metrics\n",
    "print('--------SVM-------' + '\\n')\n",
    "print(metrics.classification_report(label_training, predicted_svm)+ '\\n')\n",
    "print('--------MNB-------' + '\\n')\n",
    "print(metrics.classification_report(label_training, predicted_mnb)+ '\\n')"
   ]
  },
  {
   "cell_type": "code",
   "execution_count": 10,
   "metadata": {
    "collapsed": false
   },
   "outputs": [
    {
     "name": "stdout",
     "output_type": "stream",
     "text": [
      "--------SVM-------\n",
      "\n",
      "[[13004   100   309   132     3    10]\n",
      " [  117  6687    64   309     2     9]\n",
      " [  162    53  9896    92     8     7]\n",
      " [  159   415   127  6327     2    13]\n",
      " [   32    16   159    11  3057    65]\n",
      " [   80    25    17    39   100  1592]] \n",
      "\n",
      "--------MNB-------\n",
      "\n",
      "[[13300     5   253     0     0     0]\n",
      " [ 1634  5330   166    58     0     0]\n",
      " [  550    10  9651     7     0     0]\n",
      " [ 2759   458   369  3457     0     0]\n",
      " [  664     4  2304     1   367     0]\n",
      " [ 1668    24   116    10    26     9]] \n",
      "\n"
     ]
    }
   ],
   "source": [
    "print('--------SVM-------' + '\\n')\n",
    "print(metrics.confusion_matrix(label_training, predicted_svm),'\\n')\n",
    "print('--------MNB-------' + '\\n')\n",
    "print(metrics.confusion_matrix(label_training, predicted_mnb),'\\n')"
   ]
  },
  {
   "cell_type": "markdown",
   "metadata": {},
   "source": [
    "<h3>Dot Product of Result Sets (Not sure if useful)</h3>"
   ]
  },
  {
   "cell_type": "code",
   "execution_count": 11,
   "metadata": {
    "collapsed": false
   },
   "outputs": [
    {
     "name": "stdout",
     "output_type": "stream",
     "text": [
      "[2, 1, 1, 1, 1, 1, 3, 3, 3, 3, 3, 3, 3, 3, 3, 5, 3, 5, 3, 3]\n",
      "[4, 4, 3, 4, 4, 4, 3, 3, 3, 3, 3, 3, 3, 3, 3, 5, 5, 5, 5, 5]\n"
     ]
    },
    {
     "data": {
      "text/plain": [
       "67159"
      ]
     },
     "execution_count": 11,
     "metadata": {},
     "output_type": "execute_result"
    }
   ],
   "source": [
    "mnb = [int(i[1]) for i in output_mnb]\n",
    "svm = [int(i[1]) for i in output_svm]\n",
    "print(mnb[190:210])\n",
    "print(svm[190:210])\n",
    "np.inner(svm,mnb)"
   ]
  },
  {
   "cell_type": "code",
   "execution_count": null,
   "metadata": {
    "collapsed": true
   },
   "outputs": [],
   "source": []
  },
  {
   "cell_type": "code",
   "execution_count": null,
   "metadata": {
    "collapsed": true
   },
   "outputs": [],
   "source": []
  }
 ],
 "metadata": {
  "kernelspec": {
   "display_name": "Python 3",
   "language": "python",
   "name": "python3"
  },
  "language_info": {
   "codemirror_mode": {
    "name": "ipython",
    "version": 3
   },
   "file_extension": ".py",
   "mimetype": "text/x-python",
   "name": "python",
   "nbconvert_exporter": "python",
   "pygments_lexer": "ipython3",
   "version": "3.5.2"
  }
 },
 "nbformat": 4,
 "nbformat_minor": 0
}
