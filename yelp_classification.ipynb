{
 "cells": [
  {
   "cell_type": "code",
   "execution_count": 1,
   "metadata": {
    "collapsed": false
   },
   "outputs": [],
   "source": [
    "import random\n",
    "\n",
    "def csv_to_array(filename):\n",
    "    file = open(filename, 'r')\n",
    "    file_text = file.read()\n",
    "    # Get rid of the first three, which are examples\n",
    "    split_text = file_text.split('|')[3:]\n",
    "    i = 0\n",
    "    tuple_text = []\n",
    "    while i < len(split_text) - 1:\n",
    "        tuple_text.append((split_text[i+1], split_text[i], int(i/2)))\n",
    "        i += 2\n",
    "    \n",
    "    return tuple_text\n",
    "    \n",
    "def make_training_and_dev_data(all_data):\n",
    "    random.shuffle(all_data)\n",
    "    training_ratio = .9\n",
    "    return all_data[:int(len(all_data) * training_ratio)], all_data[int(len(all_data) * training_ratio):]\n",
    "#     return all_data[:(len(all_data) * training_ratio)], all_data[:(len(all_data) * training_ratio)] \n",
    "\n",
    "\n",
    "official_data = csv_to_array('yelp_data_official_training.csv')\n",
    "\n",
    "for garbage in official_data:\n",
    "    if garbage[1].isdigit() is False:\n",
    "        print(garbage[1])\n",
    "        break\n",
    "\n",
    "training_data, dev_data = make_training_and_dev_data(official_data)"
   ]
  },
  {
   "cell_type": "code",
   "execution_count": 2,
   "metadata": {
    "collapsed": true
   },
   "outputs": [],
   "source": [
    "def reviews(data):\n",
    "    reviews = []\n",
    "    for i in range(len(training_data)):\n",
    "        reviews.append(training_data[i][0])\n",
    "    return reviews\n",
    "\n",
    "def labels(data):\n",
    "    reviews = []\n",
    "    for i in range(len(training_data)):\n",
    "        reviews.append(int(training_data[i][1]))\n",
    "    return reviews\n",
    "\n",
    "reviews_training = reviews(training_data)\n",
    "label_training = labels(training_data)\n",
    "reviews_dev = reviews(dev_data)\n",
    "label_dev = labels(dev_data)"
   ]
  },
  {
   "cell_type": "code",
   "execution_count": 3,
   "metadata": {
    "collapsed": false
   },
   "outputs": [
    {
     "name": "stderr",
     "output_type": "stream",
     "text": [
      "/Users/RK/anaconda/lib/python3.5/site-packages/sklearn/utils/fixes.py:64: DeprecationWarning: inspect.getargspec() is deprecated, use inspect.signature() instead\n",
      "  if 'order' in inspect.getargspec(np.copy)[0]:\n"
     ]
    },
    {
     "data": {
      "text/plain": [
       "(43200, 89029)"
      ]
     },
     "execution_count": 3,
     "metadata": {},
     "output_type": "execute_result"
    }
   ],
   "source": [
    "from sklearn.feature_extraction.text import CountVectorizer\n",
    "count_vect = CountVectorizer()\n",
    "X_train_counts = count_vect.fit_transform(reviews_training)\n",
    "X_train_counts.shape"
   ]
  },
  {
   "cell_type": "code",
   "execution_count": 4,
   "metadata": {
    "collapsed": false,
    "scrolled": false
   },
   "outputs": [
    {
     "data": {
      "text/plain": [
       "45726"
      ]
     },
     "execution_count": 4,
     "metadata": {},
     "output_type": "execute_result"
    }
   ],
   "source": [
    "count_vect.vocabulary_.get('and')"
   ]
  },
  {
   "cell_type": "code",
   "execution_count": 5,
   "metadata": {
    "collapsed": false
   },
   "outputs": [
    {
     "data": {
      "text/plain": [
       "(43200, 89029)"
      ]
     },
     "execution_count": 5,
     "metadata": {},
     "output_type": "execute_result"
    }
   ],
   "source": [
    "from sklearn.feature_extraction.text import TfidfTransformer\n",
    "tf_transformer = TfidfTransformer(use_idf=False).fit(X_train_counts)\n",
    "X_train_tf = tf_transformer.transform(X_train_counts)\n",
    "X_train_tf.shape"
   ]
  },
  {
   "cell_type": "code",
   "execution_count": 6,
   "metadata": {
    "collapsed": false
   },
   "outputs": [
    {
     "data": {
      "text/plain": [
       "(43200, 89029)"
      ]
     },
     "execution_count": 6,
     "metadata": {},
     "output_type": "execute_result"
    }
   ],
   "source": [
    "tfidf_transformer = TfidfTransformer()\n",
    "X_train_tfidf = tfidf_transformer.fit_transform(X_train_counts)\n",
    "X_train_tfidf.shape"
   ]
  },
  {
   "cell_type": "code",
   "execution_count": 7,
   "metadata": {
    "collapsed": false
   },
   "outputs": [],
   "source": [
    "from sklearn.naive_bayes import MultinomialNB\n",
    "clf = MultinomialNB().fit(X_train_tfidf, label_training)"
   ]
  },
  {
   "cell_type": "code",
   "execution_count": 8,
   "metadata": {
    "collapsed": true
   },
   "outputs": [],
   "source": [
    "from sklearn.pipeline import Pipeline\n",
    "text_clf = Pipeline([('vect', CountVectorizer()),\n",
    "                     ('tfidf', TfidfTransformer()),\n",
    "                     ('clf', MultinomialNB()),])"
   ]
  },
  {
   "cell_type": "code",
   "execution_count": 9,
   "metadata": {
    "collapsed": true
   },
   "outputs": [],
   "source": [
    "text_clf = text_clf.fit(reviews_training, label_training)"
   ]
  },
  {
   "cell_type": "code",
   "execution_count": 10,
   "metadata": {
    "collapsed": false
   },
   "outputs": [
    {
     "data": {
      "text/plain": [
       "0.74032407407407408"
      ]
     },
     "execution_count": 10,
     "metadata": {},
     "output_type": "execute_result"
    }
   ],
   "source": [
    "import numpy as np\n",
    "docs_dev = reviews_dev\n",
    "predicted = text_clf.predict(docs_dev)\n",
    "np.mean(predicted == label_dev)"
   ]
  },
  {
   "cell_type": "code",
   "execution_count": 11,
   "metadata": {
    "collapsed": false
   },
   "outputs": [
    {
     "data": {
      "text/plain": [
       "0.85428240740740746"
      ]
     },
     "execution_count": 11,
     "metadata": {},
     "output_type": "execute_result"
    }
   ],
   "source": [
    "from sklearn.linear_model import SGDClassifier\n",
    "text_clf = Pipeline([('vect', CountVectorizer()),('tfidf', TfidfTransformer()), ('clf', SGDClassifier(loss='hinge', penalty='l2',alpha=1e-3, n_iter=5, random_state=42)),])\n",
    "_ = text_clf.fit(reviews_training, label_training)\n",
    "predicted = text_clf.predict(docs_dev)\n",
    "np.mean(predicted == label_dev) "
   ]
  },
  {
   "cell_type": "code",
   "execution_count": 12,
   "metadata": {
    "collapsed": false
   },
   "outputs": [
    {
     "name": "stdout",
     "output_type": "stream",
     "text": [
      "             precision    recall  f1-score   support\n",
      "\n",
      "          1       0.84      0.95      0.89     13587\n",
      "          2       0.83      0.86      0.85      7159\n",
      "          3       0.85      0.95      0.89     10237\n",
      "          4       0.92      0.68      0.79      7013\n",
      "          5       0.84      0.75      0.80      3324\n",
      "          6       0.97      0.42      0.59      1880\n",
      "\n",
      "avg / total       0.86      0.85      0.85     43200\n",
      "\n"
     ]
    }
   ],
   "source": [
    "from sklearn import metrics\n",
    "print(metrics.classification_report(label_training, predicted))"
   ]
  },
  {
   "cell_type": "code",
   "execution_count": 13,
   "metadata": {
    "collapsed": false,
    "scrolled": true
   },
   "outputs": [
    {
     "data": {
      "text/plain": [
       "array([[12939,   104,   462,    79,     2,     1],\n",
       "       [  548,  6190,   183,   224,     9,     5],\n",
       "       [  410,    80,  9677,    64,     6,     0],\n",
       "       [  851,   981,   365,  4798,    11,     7],\n",
       "       [   79,    16,   705,     4,  2506,    14],\n",
       "       [  501,    67,    43,    42,   432,   795]])"
      ]
     },
     "execution_count": 13,
     "metadata": {},
     "output_type": "execute_result"
    }
   ],
   "source": [
    "metrics.confusion_matrix(label_training, predicted)"
   ]
  },
  {
   "cell_type": "code",
   "execution_count": null,
   "metadata": {
    "collapsed": true
   },
   "outputs": [],
   "source": []
  }
 ],
 "metadata": {
  "kernelspec": {
   "display_name": "Python 3",
   "language": "python",
   "name": "python3"
  },
  "language_info": {
   "codemirror_mode": {
    "name": "ipython",
    "version": 3
   },
   "file_extension": ".py",
   "mimetype": "text/x-python",
   "name": "python",
   "nbconvert_exporter": "python",
   "pygments_lexer": "ipython3",
   "version": "3.5.2"
  }
 },
 "nbformat": 4,
 "nbformat_minor": 0
}
