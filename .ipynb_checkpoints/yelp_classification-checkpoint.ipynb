{
 "cells": [
  {
   "cell_type": "code",
   "execution_count": 18,
   "metadata": {
    "collapsed": false
   },
   "outputs": [],
   "source": [
    "import random\n",
    "\n",
    "def csv_to_array(filename):\n",
    "    file = open(filename, 'r')\n",
    "    file_text = file.read()\n",
    "    # Get rid of the first three, which are examples\n",
    "    split_text = file_text.split('|')[3:]\n",
    "    i = 0\n",
    "    tuple_text = []\n",
    "    while i < len(split_text) - 1:\n",
    "        tuple_text.append((split_text[i+1], split_text[i], int(i/2)))\n",
    "        i += 2\n",
    "    \n",
    "    return tuple_text\n",
    "    \n",
    "def make_training_and_dev_data(all_data):\n",
    "    random.shuffle(all_data)\n",
    "    training_ratio = .9\n",
    "    return all_data[:int(len(all_data) * training_ratio)], all_data[int(len(all_data) * training_ratio):]\n",
    "#     return all_data[:(len(all_data) * training_ratio)], all_data[:(len(all_data) * training_ratio)] \n",
    "\n",
    "\n",
    "official_data = csv_to_array('yelp_data_official_training.csv')\n",
    "\n",
    "for garbage in official_data:\n",
    "    if garbage[1].isdigit() is False:\n",
    "        print(garbage[1])\n",
    "        break\n",
    "\n",
    "training_data, dev_data = make_training_and_dev_data(official_data)"
   ]
  },
  {
   "cell_type": "code",
   "execution_count": 25,
   "metadata": {
    "collapsed": true
   },
   "outputs": [],
   "source": [
    "def reviews(data):\n",
    "    reviews = []\n",
    "    for i in range(len(training_data)):\n",
    "        reviews.append(training_data[i][0])\n",
    "    return reviews\n",
    "\n",
    "def labels(data):\n",
    "    reviews = []\n",
    "    for i in range(len(training_data)):\n",
    "        reviews.append(int(training_data[i][1]))\n",
    "    return reviews\n",
    "\n",
    "reviews_training = reviews(training_data)\n",
    "label_training = labels(training_data)\n",
    "reviews_dev = reviews(dev_data)\n",
    "label_dev = labels(dev_data)"
   ]
  },
  {
   "cell_type": "code",
   "execution_count": 26,
   "metadata": {
    "collapsed": false
   },
   "outputs": [
    {
     "data": {
      "text/plain": [
       "(43200, 88814)"
      ]
     },
     "execution_count": 26,
     "metadata": {},
     "output_type": "execute_result"
    }
   ],
   "source": [
    "from sklearn.feature_extraction.text import CountVectorizer\n",
    "count_vect = CountVectorizer()\n",
    "X_train_counts = count_vect.fit_transform(reviews_training)\n",
    "X_train_counts.shape"
   ]
  },
  {
   "cell_type": "code",
   "execution_count": 27,
   "metadata": {
    "collapsed": false,
    "scrolled": false
   },
   "outputs": [
    {
     "data": {
      "text/plain": [
       "45710"
      ]
     },
     "execution_count": 27,
     "metadata": {},
     "output_type": "execute_result"
    }
   ],
   "source": [
    "count_vect.vocabulary_.get('and')"
   ]
  },
  {
   "cell_type": "code",
   "execution_count": 28,
   "metadata": {
    "collapsed": false
   },
   "outputs": [
    {
     "data": {
      "text/plain": [
       "(43200, 88814)"
      ]
     },
     "execution_count": 28,
     "metadata": {},
     "output_type": "execute_result"
    }
   ],
   "source": [
    "from sklearn.feature_extraction.text import TfidfTransformer\n",
    "tf_transformer = TfidfTransformer(use_idf=False).fit(X_train_counts)\n",
    "X_train_tf = tf_transformer.transform(X_train_counts)\n",
    "X_train_tf.shape"
   ]
  },
  {
   "cell_type": "code",
   "execution_count": 29,
   "metadata": {
    "collapsed": false
   },
   "outputs": [
    {
     "data": {
      "text/plain": [
       "(43200, 88814)"
      ]
     },
     "execution_count": 29,
     "metadata": {},
     "output_type": "execute_result"
    }
   ],
   "source": [
    "tfidf_transformer = TfidfTransformer()\n",
    "X_train_tfidf = tfidf_transformer.fit_transform(X_train_counts)\n",
    "X_train_tfidf.shape"
   ]
  },
  {
   "cell_type": "code",
   "execution_count": 30,
   "metadata": {
    "collapsed": false
   },
   "outputs": [],
   "source": [
    "from sklearn.naive_bayes import MultinomialNB\n",
    "clf = MultinomialNB().fit(X_train_tfidf, label_training)"
   ]
  },
  {
   "cell_type": "code",
   "execution_count": 31,
   "metadata": {
    "collapsed": true
   },
   "outputs": [],
   "source": [
    "from sklearn.pipeline import Pipeline\n",
    "text_clf = Pipeline([('vect', CountVectorizer()),\n",
    "                     ('tfidf', TfidfTransformer()),\n",
    "                     ('clf', MultinomialNB()),])"
   ]
  },
  {
   "cell_type": "code",
   "execution_count": 32,
   "metadata": {
    "collapsed": true
   },
   "outputs": [],
   "source": [
    "text_clf = text_clf.fit(reviews_training, label_training)"
   ]
  },
  {
   "cell_type": "code",
   "execution_count": 33,
   "metadata": {
    "collapsed": false
   },
   "outputs": [
    {
     "data": {
      "text/plain": [
       "0.74034722222222227"
      ]
     },
     "execution_count": 33,
     "metadata": {},
     "output_type": "execute_result"
    }
   ],
   "source": [
    "import numpy as np\n",
    "docs_dev = reviews_dev\n",
    "predicted = text_clf.predict(docs_dev)\n",
    "np.mean(predicted == label_dev)"
   ]
  },
  {
   "cell_type": "code",
   "execution_count": 34,
   "metadata": {
    "collapsed": false
   },
   "outputs": [
    {
     "data": {
      "text/plain": [
       "0.85375000000000001"
      ]
     },
     "execution_count": 34,
     "metadata": {},
     "output_type": "execute_result"
    }
   ],
   "source": [
    "from sklearn.linear_model import SGDClassifier\n",
    "text_clf = Pipeline([('vect', CountVectorizer()),('tfidf', TfidfTransformer()), ('clf', SGDClassifier(loss='hinge', penalty='l2',alpha=1e-3, n_iter=5, random_state=42)),])\n",
    "_ = text_clf.fit(reviews_training, label_training)\n",
    "predicted = text_clf.predict(docs_dev)\n",
    "np.mean(predicted == label_dev) "
   ]
  },
  {
   "cell_type": "code",
   "execution_count": 35,
   "metadata": {
    "collapsed": false
   },
   "outputs": [
    {
     "name": "stdout",
     "output_type": "stream",
     "text": [
      "             precision    recall  f1-score   support\n",
      "\n",
      "          1       0.85      0.95      0.90     13612\n",
      "          2       0.82      0.87      0.85      7163\n",
      "          3       0.84      0.95      0.89     10201\n",
      "          4       0.92      0.68      0.78      7007\n",
      "          5       0.84      0.76      0.80      3341\n",
      "          6       0.96      0.41      0.58      1876\n",
      "\n",
      "avg / total       0.86      0.85      0.85     43200\n",
      "\n"
     ]
    }
   ],
   "source": [
    "from sklearn import metrics\n",
    "print(metrics.classification_report(label_training, predicted))"
   ]
  },
  {
   "cell_type": "code",
   "execution_count": 36,
   "metadata": {
    "collapsed": false,
    "scrolled": true
   },
   "outputs": [
    {
     "data": {
      "text/plain": [
       "array([[12946,   118,   470,    74,     2,     2],\n",
       "       [  520,  6239,   191,   205,     4,     4],\n",
       "       [  388,    88,  9652,    66,     7,     0],\n",
       "       [  822,  1051,   375,  4742,    10,     7],\n",
       "       [   77,    20,   695,     1,  2533,    15],\n",
       "       [  494,    65,    43,    39,   465,   770]])"
      ]
     },
     "execution_count": 36,
     "metadata": {},
     "output_type": "execute_result"
    }
   ],
   "source": [
    "metrics.confusion_matrix(label_training, predicted)"
   ]
  },
  {
   "cell_type": "code",
   "execution_count": null,
   "metadata": {
    "collapsed": true
   },
   "outputs": [],
   "source": []
  }
 ],
 "metadata": {
  "kernelspec": {
   "display_name": "Python 3",
   "language": "python",
   "name": "python3"
  },
  "language_info": {
   "codemirror_mode": {
    "name": "ipython",
    "version": 3
   },
   "file_extension": ".py",
   "mimetype": "text/x-python",
   "name": "python",
   "nbconvert_exporter": "python",
   "pygments_lexer": "ipython3",
   "version": "3.5.2"
  }
 },
 "nbformat": 4,
 "nbformat_minor": 0
}
